{
 "cells": [
  {
   "cell_type": "markdown",
   "id": "f628a974",
   "metadata": {},
   "source": [
    "# Defining a DAG"
   ]
  },
  {
   "cell_type": "code",
   "execution_count": null,
   "id": "12f1b1d6",
   "metadata": {},
   "outputs": [],
   "source": [
    "# Define the ETL function\n",
    "def etl():\n",
    "    film_df = extract_film_to_pandas()\n",
    "    film_df = transform_rental_rate(film_df)\n",
    "    load_dataframe_to_film(film_df)"
   ]
  },
  {
   "cell_type": "code",
   "execution_count": null,
   "id": "fc5c4259",
   "metadata": {},
   "outputs": [],
   "source": [
    "# Define the ETL task using PythonOperator\n",
    "etl_task = PythonOperator(task_id='etl_film',\n",
    "                          python_callable=etl,\n",
    "                          dag=dag)"
   ]
  },
  {
   "cell_type": "code",
   "execution_count": null,
   "id": "da9b5fb2",
   "metadata": {},
   "outputs": [],
   "source": [
    "# Set the upstream to wait_for_table and sample run etl()\n",
    "etl_task.set_upstream(wait_for_table)\n",
    "etl()"
   ]
  },
  {
   "cell_type": "code",
   "execution_count": null,
   "id": "c06ffd40",
   "metadata": {},
   "outputs": [],
   "source": []
  }
 ],
 "metadata": {
  "kernelspec": {
   "display_name": "Python 3 (ipykernel)",
   "language": "python",
   "name": "python3"
  },
  "language_info": {
   "codemirror_mode": {
    "name": "ipython",
    "version": 3
   },
   "file_extension": ".py",
   "mimetype": "text/x-python",
   "name": "python",
   "nbconvert_exporter": "python",
   "pygments_lexer": "ipython3",
   "version": "3.11.3"
  }
 },
 "nbformat": 4,
 "nbformat_minor": 5
}
