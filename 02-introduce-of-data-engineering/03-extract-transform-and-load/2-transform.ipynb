{
 "cells": [
  {
   "cell_type": "code",
   "execution_count": null,
   "id": "d32645b1",
   "metadata": {},
   "outputs": [],
   "source": [
    "# Get the rental rate column as a string\n",
    "rental_rate_str = film_df.rental_rate.astype(\"str\")"
   ]
  },
  {
   "cell_type": "code",
   "execution_count": null,
   "id": "ec35a036",
   "metadata": {},
   "outputs": [],
   "source": [
    "# Split up and expand the column\n",
    "rental_rate_expanded = rental_rate_str.str.split(\".\", expand=True)"
   ]
  },
  {
   "cell_type": "code",
   "execution_count": null,
   "id": "45ec8c9d",
   "metadata": {},
   "outputs": [],
   "source": [
    "# Assign the columns to film_df\n",
    "film_df = film_df.assign(\n",
    "    rental_rate_dollar=rental_rate_expanded[0],\n",
    "    rental_rate_cents=rental_rate_expanded[1],\n",
    ")"
   ]
  },
  {
   "cell_type": "code",
   "execution_count": null,
   "id": "ba2a7532",
   "metadata": {},
   "outputs": [],
   "source": [
    "# Use groupBy and mean to aggregate the column\n",
    "#print(rating_df.show())\n",
    "ratings_per_film_df = rating_df.groupBy('film_id').mean('rating')"
   ]
  },
  {
   "cell_type": "code",
   "execution_count": null,
   "id": "45ed30d0",
   "metadata": {},
   "outputs": [],
   "source": [
    "print(ratings_per_film_df.show())"
   ]
  },
  {
   "cell_type": "code",
   "execution_count": null,
   "id": "935f9f5e",
   "metadata": {},
   "outputs": [],
   "source": [
    "# Join the tables using the film_id column\n",
    "film_df_with_ratings = film_df.join(\n",
    "    ratings_per_film_df,\n",
    "    film_df.film_id==ratings_per_film_df.film_id\n",
    ")"
   ]
  },
  {
   "cell_type": "code",
   "execution_count": null,
   "id": "11a4bd83",
   "metadata": {},
   "outputs": [],
   "source": [
    "# Show the 5 first results\n",
    "print(film_df_with_ratings.show(5))"
   ]
  }
 ],
 "metadata": {
  "kernelspec": {
   "display_name": "Python 3 (ipykernel)",
   "language": "python",
   "name": "python3"
  },
  "language_info": {
   "codemirror_mode": {
    "name": "ipython",
    "version": 3
   },
   "file_extension": ".py",
   "mimetype": "text/x-python",
   "name": "python",
   "nbconvert_exporter": "python",
   "pygments_lexer": "ipython3",
   "version": "3.11.3"
  }
 },
 "nbformat": 4,
 "nbformat_minor": 5
}
